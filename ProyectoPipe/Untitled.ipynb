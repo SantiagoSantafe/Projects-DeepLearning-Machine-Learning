{
 "cells": [
  {
   "cell_type": "code",
   "execution_count": 5,
   "id": "2a91e9cf-cdd7-41cd-9f32-64255afe6e3a",
   "metadata": {},
   "outputs": [
    {
     "name": "stdout",
     "output_type": "stream",
     "text": [
      "              Date Time                      Customer Name  \\\n",
      "0  6/08/2024 9:30 a. m.        Maria Jose Garcia Castaneda   \n",
      "1  9/08/2024 1:00 p. m.      Nelson Alberto Salamanca Leon   \n",
      "2  9/08/2024 1:00 p. m.     Juan Miguel Hernandez Retamoso   \n",
      "3  9/08/2024 1:30 p. m.  Kareen Alejandra Latorre Martinez   \n",
      "4  9/08/2024 1:30 p. m.              Daniela Cortes Mendez   \n",
      "\n",
      "                  Customer Email  Customer Phone  Customer Address  Staff  \\\n",
      "0  mariagarccas@unisabana.edu.co             NaN               NaN    NaN   \n",
      "1    nelsonsale@unisabana.edu.co             NaN               NaN    NaN   \n",
      "2     juanherre@unisabana.edu.co    3.193423e+09               NaN    NaN   \n",
      "3    kareenlama@unisabana.edu.co             NaN               NaN    NaN   \n",
      "4  danielacorme@unisabana.edu.co             NaN               NaN    NaN   \n",
      "\n",
      "                      Staff Name                   Staff Email  \\\n",
      "0           Juan Diego Lemus Rey     juanlere@unisabana.edu.co   \n",
      "1         Paula Nicol Amaya Juez    paulaamju@unisabana.edu.co   \n",
      "2  Claudia Alexandra Paez Medina  claudiapame@unisabana.edu.co   \n",
      "3  Claudia Alexandra Paez Medina  claudiapame@unisabana.edu.co   \n",
      "4  Claudia Alexandra Paez Medina  claudiapame@unisabana.edu.co   \n",
      "\n",
      "                                      Service              Location  ...  \\\n",
      "0  Monitoria de Circuitos y Sistema Digitales     Salón Seminario 2  ...   \n",
      "1         Monitorias Optimización y Analitica  Salon Simulación 203  ...   \n",
      "2                     Monitoria de Simulación                   NaN  ...   \n",
      "3                     Monitoria de Simulación                   NaN  ...   \n",
      "4                     Monitoria de Simulación                   NaN  ...   \n",
      "\n",
      "   Pricing Type Price  Currency  Cc Attendees  Signed Up Attendees Count  \\\n",
      "0       Not set     0       NaN           NaN                          1   \n",
      "1       Not set     0       NaN           NaN                          1   \n",
      "2       Not set     0       NaN           NaN                          1   \n",
      "3       Not set     0       NaN           NaN                          3   \n",
      "4       Not set     0       NaN           NaN                          3   \n",
      "\n",
      "   Text Notifications Enabled   Custom Fields  Event Type  \\\n",
      "0                       False             NaN       Group   \n",
      "1                       False             NaN       Group   \n",
      "2                       False             NaN       Group   \n",
      "3                       False             NaN       Group   \n",
      "4                       False             NaN       Group   \n",
      "\n",
      "                                          Booking Id Tracking Data  \n",
      "0  AAMkADcwMDEzMGU2LWUwMjUtNGMwOC1iN2YxLWE1NmZhN2...           NaN  \n",
      "1  AAMkADcwMDEzMGU2LWUwMjUtNGMwOC1iN2YxLWE1NmZhN2...           NaN  \n",
      "2  AAMkADcwMDEzMGU2LWUwMjUtNGMwOC1iN2YxLWE1NmZhN2...           NaN  \n",
      "3  AAMkADcwMDEzMGU2LWUwMjUtNGMwOC1iN2YxLWE1NmZhN2...           NaN  \n",
      "4  AAMkADcwMDEzMGU2LWUwMjUtNGMwOC1iN2YxLWE1NmZhN2...           NaN  \n",
      "\n",
      "[5 rows x 21 columns]\n"
     ]
    }
   ],
   "source": [
    "import pandas as pd\n",
    "\n",
    "# Leer los dos archivos .tsv\n",
    "df = pd.read_csv('BookingsReportingData.tsv', sep='\\t')\n",
    "df2 = pd.read_csv('BookingsReportingData (1).tsv', sep='\\t')\n",
    "\n",
    "# Concatenar los dos DataFrames (agregar las filas de df2 a df)\n",
    "df_combined = pd.concat([df, df2], ignore_index=True)\n",
    "\n",
    "# Muestra las primeras filas para verificar que se ha concatenado correctamente\n",
    "print(df_combined.head())\n"
   ]
  },
  {
   "cell_type": "code",
   "execution_count": 7,
   "id": "0624ce5e-7fa9-4f00-876b-d6f2946b0022",
   "metadata": {},
   "outputs": [
    {
     "name": "stdout",
     "output_type": "stream",
     "text": [
      "Service\n",
      "Monitoria Inteligencia de Negocios [Presencial]                   7\n",
      "Monitoria Intro. a la Programación / Fundamentos programación    30\n",
      "Monitoria Lógica Digital [Presencial]                             1\n",
      "Monitoria Prog. Orientada a Objetos [Presencial]                 10\n",
      "Monitoria de Circuitos y Sistema Digitales                        5\n",
      "Monitoria de Simulación                                          32\n",
      "Monitorias Optimización y Analitica                              18\n",
      "Monitorias de Procesos Estocásticos [Presencial]                 13\n",
      "dtype: int64\n"
     ]
    }
   ],
   "source": [
    "# Agrupar por la columna 'Service' y contar las reservas\n",
    "reservas_por_servicio = df_combined.groupby('Service').size()\n",
    "\n",
    "# Mostrar el total de reservas por servicio\n",
    "print(reservas_por_servicio)\n"
   ]
  }
 ],
 "metadata": {
  "kernelspec": {
   "display_name": "Python 3 (ipykernel)",
   "language": "python",
   "name": "python3"
  },
  "language_info": {
   "codemirror_mode": {
    "name": "ipython",
    "version": 3
   },
   "file_extension": ".py",
   "mimetype": "text/x-python",
   "name": "python",
   "nbconvert_exporter": "python",
   "pygments_lexer": "ipython3",
   "version": "3.12.4"
  }
 },
 "nbformat": 4,
 "nbformat_minor": 5
}
